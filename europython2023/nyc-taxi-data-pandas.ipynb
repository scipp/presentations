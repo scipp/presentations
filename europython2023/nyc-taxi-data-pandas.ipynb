{
 "cells": [
  {
   "cell_type": "code",
   "execution_count": null,
   "id": "3dee77c0-50d3-4e58-9ba8-4087fbb35d3b",
   "metadata": {},
   "outputs": [],
   "source": [
    "import numpy as np\n",
    "import scipp as sc\n",
    "import h5py\n",
    "import pandas as pd"
   ]
  },
  {
   "cell_type": "code",
   "execution_count": null,
   "id": "ac57079c-4d12-4689-92e4-d033c4bbb571",
   "metadata": {},
   "outputs": [],
   "source": [
    "# Download file from https://vaex.s3.us-east-2.amazonaws.com/taxi/yellow_taxi_2015_f32s.hdf5\n",
    "f = h5py.File(\"yellow_taxi_2015_f32s.hdf5\")"
   ]
  },
  {
   "cell_type": "code",
   "execution_count": null,
   "id": "d7e65c53-5285-4859-ae40-3af48f2d8c8d",
   "metadata": {},
   "outputs": [],
   "source": [
    "load = [\n",
    "    \"dropoff_datetime\",\n",
    "    \"dropoff_latitude\",\n",
    "    \"dropoff_longitude\",\n",
    "    \"fare_amount\",\n",
    "    \"trip_distance\",\n",
    "]\n",
    "ds = {}\n",
    "for key in f[\"table/columns\"].keys():\n",
    "    if key in load:\n",
    "        ds[key] = f[f\"table/columns/{key}/data\"][...][::2]\n",
    "ds"
   ]
  },
  {
   "cell_type": "code",
   "execution_count": null,
   "id": "40539559-c36f-4842-a866-b5b24987144e",
   "metadata": {},
   "outputs": [],
   "source": [
    "lat_min = 40.75499916\n",
    "lat_max = 40.79499865\n",
    "manh_lat = np.where((ds['dropoff_latitude'] > lat_min) & (ds['dropoff_latitude'] < lat_max), \"manh_lat\", \"other_lat\")\n",
    "manh_lat"
   ]
  },
  {
   "cell_type": "code",
   "execution_count": null,
   "id": "067910a7-9bdc-4ef8-a629-e5978328b1c1",
   "metadata": {},
   "outputs": [],
   "source": [
    "lon_min = -74.00999641\n",
    "lon_max = -73.96999741\n",
    "manh_lon = np.where((ds['dropoff_longitude'] > lon_min) & (ds['dropoff_longitude'] < lon_max), \"manh_lon\", \"other_lon\")\n",
    "manh_lon"
   ]
  },
  {
   "cell_type": "code",
   "execution_count": null,
   "id": "584c62e4-a038-451c-9a65-73f05573d215",
   "metadata": {},
   "outputs": [],
   "source": [
    "df = pd.DataFrame(np.array(list(ds.values())).T, index=[manh_lat, manh_lon])\n",
    "df"
   ]
  },
  {
   "cell_type": "code",
   "execution_count": null,
   "id": "1b74a1a4-d871-4594-88ef-b470f9ad2584",
   "metadata": {},
   "outputs": [],
   "source": [
    "sorted_df = df.sort_index()\n",
    "sorted_df"
   ]
  },
  {
   "cell_type": "code",
   "execution_count": null,
   "id": "43e95761-7326-445e-81e7-4fd3c1a4b82a",
   "metadata": {},
   "outputs": [],
   "source": [
    "manh = sorted_df.loc[(\"manh_lat\", \"manh_lon\")]\n",
    "manh"
   ]
  },
  {
   "cell_type": "code",
   "execution_count": null,
   "id": "92954543-61ad-4242-86a5-785f93866478",
   "metadata": {},
   "outputs": [],
   "source": [
    "import matplotlib.pyplot as plt\n",
    "\n",
    "_ = plt.hist(manh[4], bins=np.linspace(0, 80, 100))"
   ]
  },
  {
   "cell_type": "code",
   "execution_count": null,
   "id": "e523652c-036b-4a08-816a-32ebc8eb509e",
   "metadata": {},
   "outputs": [],
   "source": [
    "_ = plt.hist2d(manh[4], manh[3], bins=(np.linspace(0, 80, 100), np.linspace(0, 200, 100)), norm='log')"
   ]
  },
  {
   "cell_type": "code",
   "execution_count": null,
   "id": "0d28e6e0-015e-4f6d-a4b7-5a0c3f02f860",
   "metadata": {},
   "outputs": [],
   "source": [
    "_ = plt.hist2d(manh[2], manh[1], bins=300, norm='log')"
   ]
  },
  {
   "cell_type": "code",
   "execution_count": null,
   "id": "a4b00108-eb7c-476a-b3f5-f89c6af4e2a7",
   "metadata": {},
   "outputs": [],
   "source": []
  }
 ],
 "metadata": {
  "kernelspec": {
   "display_name": "Python 3 (ipykernel)",
   "language": "python",
   "name": "python3"
  },
  "language_info": {
   "codemirror_mode": {
    "name": "ipython",
    "version": 3
   },
   "file_extension": ".py",
   "mimetype": "text/x-python",
   "name": "python",
   "nbconvert_exporter": "python",
   "pygments_lexer": "ipython3",
   "version": "3.9.13"
  }
 },
 "nbformat": 4,
 "nbformat_minor": 5
}
