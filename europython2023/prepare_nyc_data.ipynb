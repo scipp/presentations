{
 "cells": [
  {
   "cell_type": "markdown",
   "id": "4f12b501-b357-4c81-87e8-fa375f594106",
   "metadata": {},
   "source": [
    "# Prepare NYC taxi data"
   ]
  },
  {
   "cell_type": "code",
   "execution_count": null,
   "id": "c2e922c8-c082-41c4-999b-55f62dcf4008",
   "metadata": {},
   "outputs": [],
   "source": [
    "import numpy as np\n",
    "import scipp as sc\n",
    "import h5py"
   ]
  },
  {
   "cell_type": "code",
   "execution_count": null,
   "id": "8adb052e-a52e-4117-aa77-cd9b41613b66",
   "metadata": {},
   "outputs": [],
   "source": [
    "f = h5py.File(\"yellow_taxi_2015_f32s.hdf5\")\n",
    "load = [\n",
    "    \"dropoff_datetime\",\n",
    "    \"dropoff_latitude\",\n",
    "    \"dropoff_longitude\",\n",
    "    \"pickup_datetime\",\n",
    "    \"pickup_latitude\",\n",
    "    \"pickup_longitude\",\n",
    "    \"fare_amount\",\n",
    "    \"trip_distance\",\n",
    "    \"tip_amount\",\n",
    "]\n",
    "ds = {}\n",
    "for key in load:\n",
    "    ds[key] = sc.array(dims=[\"row\"], values=f[f\"table/columns/{key}/data\"][...][::8])\n",
    "\n",
    "da = sc.DataArray(\n",
    "    data=sc.ones(sizes=ds[load[0]].sizes, unit=\"counts\"),\n",
    "    coords={key: val for key, val in ds.items()},\n",
    ")\n",
    "da.coords[\"dropoff_datetime\"].unit = \"ns\"\n",
    "da.coords[\"dropoff_latitude\"] = da.coords.pop(\"dropoff_latitude\").to(dtype='float64')\n",
    "da.coords[\"dropoff_latitude\"].unit = \"degrees\"\n",
    "da.coords[\"dropoff_longitude\"] = da.coords.pop(\"dropoff_longitude\").to(dtype='float64')\n",
    "da.coords[\"dropoff_longitude\"].unit = \"degrees\"\n",
    "\n",
    "da.coords[\"pickup_datetime\"].unit = \"ns\"\n",
    "da.coords[\"pickup_latitude\"] = da.coords.pop(\"pickup_latitude\").to(dtype='float64')\n",
    "da.coords[\"pickup_latitude\"].unit = \"degrees\"\n",
    "da.coords[\"pickup_longitude\"] = da.coords.pop(\"pickup_longitude\").to(dtype='float64')\n",
    "da.coords[\"pickup_longitude\"].unit = \"degrees\"\n",
    "\n",
    "da.coords[\"fare_amount\"] = da.coords[\"fare_amount\"].to(dtype='float64')\n",
    "da.coords[\"fare_amount\"].unit = \"dollars\"\n",
    "da.coords[\"tip_amount\"] = da.coords[\"tip_amount\"].to(dtype='float64')\n",
    "da.coords[\"tip_amount\"].unit = \"dollars\"\n",
    "da.coords[\"trip_distance\"] = da.coords[\"trip_distance\"].to(dtype='float64')\n",
    "da.coords[\"trip_distance\"].unit = \"miles\"\n",
    "\n",
    "da.coords[\"dropoff_datetime\"] = da.coords[\"dropoff_datetime\"] + sc.epoch(unit=\"ns\")\n",
    "da.coords[\"pickup_datetime\"] = da.coords[\"pickup_datetime\"] + sc.epoch(unit=\"ns\")\n",
    "\n",
    "# Add hour of the day coord\n",
    "da.coords[\"dropoff_hour\"] = sc.array(\n",
    "    dims=da.dims,\n",
    "    values=(\n",
    "        da.coords[\"dropoff_datetime\"].values.astype(\"M8[h]\")\n",
    "        - da.coords[\"dropoff_datetime\"].values.astype(\"datetime64[D]\")\n",
    "    ).astype(int),\n",
    ")\n",
    "da.coords[\"pickup_hour\"] = sc.array(\n",
    "    dims=da.dims,\n",
    "    values=(\n",
    "        da.coords[\"pickup_datetime\"].values.astype(\"M8[h]\")\n",
    "        - da.coords[\"pickup_datetime\"].values.astype(\"datetime64[D]\")\n",
    "    ).astype(int),\n",
    ")\n",
    "\n",
    "da.coords[\"dropoff_datetime\"] = da.coords[\"dropoff_datetime\"].to(unit='s')\n",
    "da.coords[\"pickup_datetime\"] = da.coords[\"pickup_datetime\"].to(unit='s')\n",
    "\n",
    "da"
   ]
  },
  {
   "cell_type": "code",
   "execution_count": null,
   "id": "d4c9dcd6-54a1-482c-8af7-ae264a8a845a",
   "metadata": {},
   "outputs": [],
   "source": [
    "dx = 0.32\n",
    "lon_min = -74.05\n",
    "lon_max = lon_min + dx\n",
    "lat_min = 40.595\n",
    "lat_max = lat_min + dx\n",
    "\n",
    "binned = da.bin(\n",
    "    dropoff_latitude=sc.linspace(\n",
    "        \"dropoff_latitude\", lat_min, lat_max, 2, unit=\"degrees\"\n",
    "    ),\n",
    "    dropoff_longitude=sc.linspace(\n",
    "        \"dropoff_longitude\", lon_min, lon_max, 2, unit=\"degrees\"\n",
    "    ),\n",
    "    trip_distance=sc.linspace(\n",
    "        \"trip_distance\", 0.01, 80, 2, unit=\"miles\"\n",
    "    )\n",
    ")\n",
    "binned"
   ]
  },
  {
   "cell_type": "code",
   "execution_count": null,
   "id": "9c269b5d-16af-4238-bd63-ba9f84e8374d",
   "metadata": {},
   "outputs": [],
   "source": [
    "binned.values[0]"
   ]
  },
  {
   "cell_type": "code",
   "execution_count": null,
   "id": "da08d691-f90c-46e1-bcd5-38253cf6a4fb",
   "metadata": {},
   "outputs": [],
   "source": [
    "binned.values[0].to_hdf5('nyc_taxi_data_2015_small.h5')"
   ]
  },
  {
   "cell_type": "code",
   "execution_count": null,
   "id": "2f96fd42-539e-4f24-9b08-6288b7187121",
   "metadata": {},
   "outputs": [],
   "source": [
    "da = binned.values[0].copy()\n",
    "da"
   ]
  },
  {
   "cell_type": "code",
   "execution_count": null,
   "id": "e7f4eb6a-c6e1-4ec1-b8eb-34b3e188735d",
   "metadata": {},
   "outputs": [],
   "source": [
    "zero = sc.scalar(0., unit='dollar')\n",
    "sel = (da.coords['tip_amount'] > zero) & (da.coords['fare_amount'] > zero)\n",
    "da = da[sel]\n",
    "da.coords['tip_fraction'] = da.coords['tip_amount'] / da.coords['fare_amount']\n",
    "da.bin(dropoff_hour=24).bins.coords['tip_fraction']"
   ]
  },
  {
   "cell_type": "code",
   "execution_count": null,
   "id": "714919e5-468c-4e94-b048-d064221df649",
   "metadata": {},
   "outputs": [],
   "source": [
    "da.bin(dropoff_hour=24).bins.coords['tip_fraction'].bins.mean().plot()"
   ]
  },
  {
   "cell_type": "code",
   "execution_count": null,
   "id": "edba8dfb-1ff4-485d-a4a9-5f207cfc3305",
   "metadata": {},
   "outputs": [],
   "source": []
  }
 ],
 "metadata": {
  "kernelspec": {
   "display_name": "Python 3 (ipykernel)",
   "language": "python",
   "name": "python3"
  },
  "language_info": {
   "codemirror_mode": {
    "name": "ipython",
    "version": 3
   },
   "file_extension": ".py",
   "mimetype": "text/x-python",
   "name": "python",
   "nbconvert_exporter": "python",
   "pygments_lexer": "ipython3",
   "version": "3.10.12"
  }
 },
 "nbformat": 4,
 "nbformat_minor": 5
}
