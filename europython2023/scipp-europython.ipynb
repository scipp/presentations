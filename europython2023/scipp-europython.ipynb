{
 "cells": [
  {
   "cell_type": "markdown",
   "id": "cfc2eac2-42f1-47cb-9f09-1b6c597f0239",
   "metadata": {},
   "source": [
    "<a href=\"https://scipp.github.io\"><img src=\"https://scipp.github.io/_static/logo-2022.svg\" width=\"600\" /></a>\n",
    "\n",
    "# Multi-dimensional arrays with labeled dimensions and physical units\n",
    "\n",
    "## [scipp.github.io](https://scipp.github.io)\n",
    "\n",
    "<br>\n",
    "\n",
    "<table style=\"margin-left:0px;\">\n",
    "    <tr>\n",
    "        <td>\n",
    "            <h1>About me</h1><br>\n",
    "            <h2>Neil Vaytet</h2>\n",
    "            <h3>\n",
    "            <ul>\n",
    "                <li>Scientific software developer @ <a href=\"https://europeanspallationsource.se/\">European Spallation Source (DK/SE)</a></li>\n",
    "                <li>Python for scientific data analysis</li>\n",
    "                <li>Data visualization</li>\n",
    "                <li><a href=\"neil.vaytet@ess.eu\">neil.vaytet@ess.eu</a></li>\n",
    "            </ul>\n",
    "            </h3>\n",
    "        </td>\n",
    "        <td>\n",
    "            <img src=\"neil.png\" width=\"200\" /> &nbsp;\n",
    "            <img src=\"https://europeanspallationsource.se/themes/custom/ess/logo.svg\" width=\"300\" />\n",
    "        </td>\n",
    "    </tr>\n",
    "</table>\n",
    "\n",
    "\n",
    "<h3>\n",
    "    <img src=\"simon.png\" width=\"60\" /> Simon Heybrock &nbsp;&nbsp;&nbsp;&nbsp;&nbsp;&nbsp;&nbsp;&nbsp;&nbsp;&nbsp;&nbsp;&nbsp;\n",
    "    <img src=\"janlukas.png\" width=\"60\" />Jan-Lukas Wynen &nbsp;&nbsp;&nbsp;&nbsp;&nbsp;&nbsp;&nbsp;&nbsp;&nbsp;&nbsp;&nbsp;&nbsp;\n",
    "    <img src=\"sunyoung.png\" width=\"60\" />Sunyoung Yoo\n",
    "</h3>"
   ]
  },
  {
   "cell_type": "markdown",
   "id": "179c0b83-2c38-4549-a850-e72c26a4c770",
   "metadata": {},
   "source": [
    "<br><br><br><br>\n",
    "<br><br><br><br>\n",
    "<br><br><br><br>"
   ]
  },
  {
   "cell_type": "code",
   "execution_count": null,
   "id": "4fd44f82-593f-43f2-a8ca-d9ef5b864623",
   "metadata": {},
   "outputs": [],
   "source": [
    "%matplotlib inline\n",
    "import numpy as np\n",
    "import scipp as sc\n",
    "import matplotlib.pyplot as plt\n",
    "\n",
    "rng = np.random.default_rng(seed=1234)"
   ]
  },
  {
   "cell_type": "code",
   "execution_count": null,
   "id": "1d9b1c65-c2a2-43be-addf-aecdc48c659b",
   "metadata": {},
   "outputs": [],
   "source": [
    "def plot(*x):\n",
    "    \"\"\"\n",
    "    Useful plot function for 1d and 2d data\n",
    "    \"\"\"\n",
    "    fig, ax = plt.subplots()\n",
    "    for a in x:\n",
    "        if a.ndim == 1:\n",
    "            ax.plot(np.arange(len(a)), a)\n",
    "        elif a.ndim == 2:\n",
    "            ax.imshow(a, origin=\"lower\")\n",
    "\n",
    "def scatter(x, y):\n",
    "    \"\"\"\n",
    "    Simple scatter plot\n",
    "    \"\"\"\n",
    "    fig, ax = plt.subplots()\n",
    "    ax.scatter(x, y, marker=\".\", s=1)\n",
    "    ax.set_aspect(\"equal\")\n",
    "    ax.set_xlim(x.min(), x.max())\n",
    "    ax.set_ylim(y.min(), y.max())\n",
    "    return ax"
   ]
  },
  {
   "cell_type": "markdown",
   "id": "e83f885b-9164-463a-8b21-9ab8a8e9057e",
   "metadata": {},
   "source": [
    "<br><br><br><br><br><br><br><br><br><br><br><br><br><br><br><br><br><br><br><br><br><br><br><br>\n",
    "\n",
    "## 1. Introduction to labeled dimensions: why do we need them?"
   ]
  },
  {
   "cell_type": "code",
   "execution_count": null,
   "id": "e7eb1b73-b841-4696-bc5e-73fb5f063e71",
   "metadata": {},
   "outputs": [],
   "source": [
    "ny, nx = 10, 20\n",
    "a = np.sin(np.arange(ny) / (ny / 4)).reshape((-1, 1)) * np.cos(np.arange(nx) / (ny / 4))\n",
    "a.shape"
   ]
  },
  {
   "cell_type": "code",
   "execution_count": null,
   "id": "4bcf0f99-f1a3-4e0c-81dc-b53681d1760f",
   "metadata": {},
   "outputs": [],
   "source": [
    "plot(a)"
   ]
  },
  {
   "cell_type": "code",
   "execution_count": null,
   "id": "75b6612c-4241-46ac-be57-af9a99cab75b",
   "metadata": {},
   "outputs": [],
   "source": [
    "# Slice out row number 4\n",
    "plot(a[4, :])"
   ]
  },
  {
   "cell_type": "markdown",
   "id": "f135c682-5074-420c-a497-1b1458afe843",
   "metadata": {},
   "source": [
    "### We can't always deduce from the shape"
   ]
  },
  {
   "cell_type": "code",
   "execution_count": null,
   "id": "61611d8c-b202-4727-9135-ab6101e81593",
   "metadata": {},
   "outputs": [],
   "source": [
    "ny, nx = 20, 20\n",
    "a = np.sin(np.arange(ny) / (ny / 4)).reshape((-1, 1)) * np.cos(np.arange(nx) / (ny / 4))\n",
    "a.shape"
   ]
  },
  {
   "cell_type": "code",
   "execution_count": null,
   "id": "e9c50988-0fec-4788-8021-d8b3eb6041f2",
   "metadata": {},
   "outputs": [],
   "source": [
    "plot(a)"
   ]
  },
  {
   "cell_type": "code",
   "execution_count": null,
   "id": "c285a8d4-95ae-4bc4-ae7b-5935db371451",
   "metadata": {},
   "outputs": [],
   "source": [
    "# Not always obvious which dimension is which\n",
    "plot(a[:, 4], a[4, :])"
   ]
  },
  {
   "cell_type": "markdown",
   "id": "e375cb07-b2eb-46f9-ab5e-68dd12fe31ca",
   "metadata": {},
   "source": [
    "### The situation gets worse with more dimensions\n",
    "\n",
    "Say I now have an array that has 4 dimensions: `x, y, z, time` (in that order, maybe?)"
   ]
  },
  {
   "cell_type": "code",
   "execution_count": null,
   "id": "a58514bd-6c6c-4c93-8d8b-429fd47034f6",
   "metadata": {},
   "outputs": [],
   "source": [
    "a = np.random.random([20] * 4)\n",
    "a.shape"
   ]
  },
  {
   "cell_type": "markdown",
   "id": "a800667f-7e2c-4ca5-b949-acb5c245536b",
   "metadata": {},
   "source": [
    "I want to get the first `z` slice...\n",
    "\n",
    "Which one was it again?"
   ]
  },
  {
   "cell_type": "code",
   "execution_count": null,
   "id": "2ffa21ab-5254-4984-b45e-21f8e0c22694",
   "metadata": {},
   "outputs": [],
   "source": [
    "z_slice = a[:, :, 0, :]  # x,y,z,t\n",
    "z_slice = a[0, :, :, :]  # z,y,x,t\n",
    "z_slice = a[:, :, :, 0]  # t,x,y,z"
   ]
  },
  {
   "cell_type": "markdown",
   "id": "13f35a1c-c377-49b0-a8ea-a682d03ec466",
   "metadata": {},
   "source": [
    "<br><br><br><br><br><br><br><br><br><br><br><br><br><br><br><br><br><br><br><br><br><br><br><br><br><br><br>\n",
    "\n",
    "\n",
    "### Introducing labeled dimensions\n",
    "\n",
    "<img src=\"https://docs.xarray.dev/en/stable/_static/dataset-diagram-logo.png\" width=\"220\" /> &nbsp;&nbsp;&nbsp;&nbsp;&nbsp;&nbsp;&nbsp;&nbsp; <img src=\"https://scipp.github.io/_static/logo-2022.svg\" width=\"220\" />\n",
    "\n",
    "[Xarray](https://docs.xarray.dev/en/stable/index.html) (https://docs.xarray.dev) introduced labels to multi-dimensional Numpy arrays.\n",
    "\n",
    "\"*real-world datasets are usually more than just raw numbers; they have labels which encode information about how the array values map to locations in space, time, etc.*\"\n",
    "\n",
    "We have embraced, and to a large extent copied, the Xarray mechanism."
   ]
  },
  {
   "cell_type": "code",
   "execution_count": null,
   "id": "f0ba61d1-53f8-450d-85cf-170e0b730cb0",
   "metadata": {},
   "outputs": [],
   "source": [
    "var = sc.array(dims=[\"x\", \"y\", \"z\", \"time\"], values=a)\n",
    "var"
   ]
  },
  {
   "cell_type": "markdown",
   "id": "396918b2-461e-4e4e-9659-2d94098155d6",
   "metadata": {},
   "source": [
    "Getting the `z` slice is now easy and **readable**"
   ]
  },
  {
   "cell_type": "code",
   "execution_count": null,
   "id": "139a6447-8e0c-444b-8442-453b99872a39",
   "metadata": {},
   "outputs": [],
   "source": [
    "var[\"z\", 0]"
   ]
  },
  {
   "cell_type": "markdown",
   "id": "f1136ca6-f6b5-4e08-bd89-f79b8ee22032",
   "metadata": {},
   "source": [
    "<br><br><br><br><br><br><br><br><br><br><br><br><br><br><br><br>\n",
    "\n",
    "### Adding coordinates\n",
    "\n",
    "- Coordinates can be specified for each dimension.\n",
    "- They describe the extent of each axis, as well as how far each data point is from its neighbours."
   ]
  },
  {
   "cell_type": "code",
   "execution_count": null,
   "id": "db1955bc-03d7-4915-8f78-41fa29879c52",
   "metadata": {},
   "outputs": [],
   "source": [
    "data = sc.array(dims=[\"altitude\", \"year\"], values=rng.random((5, 9)))\n",
    "sc.show(data)"
   ]
  },
  {
   "cell_type": "markdown",
   "id": "772caaea-96c6-48f3-8dc7-e17ebef1e0fa",
   "metadata": {},
   "source": [
    "In Scipp and Xarray, coordinates are added in a data structure called `DataArray`:"
   ]
  },
  {
   "cell_type": "code",
   "execution_count": null,
   "id": "9fae8696-a15a-49f6-bfdf-5133e27b2304",
   "metadata": {},
   "outputs": [],
   "source": [
    "da = sc.DataArray(\n",
    "    data=data,\n",
    "    coords={\n",
    "        \"year\": sc.arange(\"year\", 2015, 2024),\n",
    "        \"altitude\": sc.linspace(\"altitude\", 0, 8000, 5),\n",
    "    },\n",
    ")\n",
    "sc.show(da)"
   ]
  },
  {
   "cell_type": "code",
   "execution_count": null,
   "id": "18c6b274-9fad-4f73-9cee-6b2163e3bc59",
   "metadata": {},
   "outputs": [],
   "source": [
    "da"
   ]
  },
  {
   "cell_type": "code",
   "execution_count": null,
   "id": "42f3db49-14ba-4765-af5f-b60313d5f6a8",
   "metadata": {},
   "outputs": [],
   "source": [
    "da.coords['year-since-2000'] = da.coords['year'] - 2000\n",
    "da"
   ]
  },
  {
   "cell_type": "markdown",
   "id": "61c0aec4-fffb-475f-87f0-57a82cbc3e65",
   "metadata": {},
   "source": [
    "<br><br><br><br><br><br><br><br>\n",
    "<br><br><br><br><br><br><br><br>"
   ]
  },
  {
   "cell_type": "markdown",
   "id": "2714f71b-f985-4029-b4f5-c8eabe83eeaa",
   "metadata": {},
   "source": [
    "## 2. Going further\n",
    "\n",
    "<img src=\"https://scipp.github.io/_static/logo-2022.svg\" width=\"220\" />\n",
    "\n",
    "### 2.1 Physical units\n",
    "\n",
    "Every data variable and coordinate in Scipp has physical units.\n",
    "&nbsp;&nbsp;&nbsp;&nbsp;&nbsp;&nbsp;&nbsp;&nbsp;&nbsp;&nbsp;&nbsp;&nbsp;&nbsp;\n",
    "&nbsp;&nbsp;&nbsp;&nbsp;&nbsp;&nbsp;&nbsp;&nbsp;&nbsp;&nbsp;&nbsp;&nbsp;&nbsp;\n",
    "(see also [pint](https://pint.readthedocs.io/en/stable/), [astropy.units](https://docs.astropy.org/en/stable/units/index.html), [pint-xarray](https://pint-xarray.readthedocs.io/en/stable/), ...)"
   ]
  },
  {
   "cell_type": "code",
   "execution_count": null,
   "id": "8165952c-0730-4554-9833-969a9755a8b7",
   "metadata": {},
   "outputs": [],
   "source": [
    "x = sc.array(dims=['row'], values=rng.normal(size=10000), unit='cm')\n",
    "y = sc.array(dims=['row'], values=rng.normal(size=10000), unit='cm')\n",
    "recording = sc.DataArray(data=sc.ones(sizes=x.sizes, unit='counts'),\n",
    "                         coords={'x': x, 'y': y})\n",
    "image = recording.hist(y=100, x=100)\n",
    "image"
   ]
  },
  {
   "cell_type": "code",
   "execution_count": null,
   "id": "69b929e6-967a-4c5f-80fe-b7ad896b0dda",
   "metadata": {},
   "outputs": [],
   "source": [
    "image.plot(aspect=\"equal\")"
   ]
  },
  {
   "cell_type": "code",
   "execution_count": null,
   "id": "4ba9cca0-ccc9-4079-bf93-a4645b7f80ec",
   "metadata": {},
   "outputs": [],
   "source": [
    "integration_time = sc.scalar(300.0, unit=\"s\")\n",
    "image /= integration_time\n",
    "print(image.unit)\n",
    "\n",
    "image.plot(aspect=\"equal\")"
   ]
  },
  {
   "cell_type": "markdown",
   "id": "c50b87c9-3f0d-412a-ac3a-30f40bd96e46",
   "metadata": {},
   "source": [
    "<br><br><br><br><br><br><br><br><br><br><br><br><br><br><br>\n",
    "\n",
    "### Units also provide protection\n",
    "\n",
    "Say I now have a background image (dark frame) which I want to subtract from the signal image above,\n",
    "but I forgot to first normalize it by integration time"
   ]
  },
  {
   "cell_type": "code",
   "execution_count": null,
   "id": "0d9546fc-ecd3-495d-bd24-16e5820ccc34",
   "metadata": {},
   "outputs": [],
   "source": [
    "background = sc.array(dims=[\"y\", \"x\"], values=rng.random((100, 100)), unit=\"counts\")\n",
    "\n",
    "image - background"
   ]
  },
  {
   "cell_type": "code",
   "execution_count": null,
   "id": "cdd8501d-cce9-471d-87be-b7fd3cea7e24",
   "metadata": {},
   "outputs": [],
   "source": [
    "background_integration_time = sc.scalar(60.0, unit=\"s\")\n",
    "background /= background_integration_time\n",
    "\n",
    "background_subtracted = image - background"
   ]
  },
  {
   "cell_type": "markdown",
   "id": "80ba2204-ba55-4ab9-b7fd-0e886ed3eb15",
   "metadata": {},
   "source": [
    "- The units are very useful in early prevention of difficult-to-spot bugs in a workflow.\n",
    "- They save **hours** of debugging time, free-up mental capacity and let the user focus on the important thing: **doing science**.\n",
    "\n",
    "<br><br><br><br><br><br><br><br><br><br><br><br><br><br><br><br><br><br>"
   ]
  },
  {
   "cell_type": "markdown",
   "id": "64ec0507-83cf-47eb-b68d-d98b69a31be0",
   "metadata": {},
   "source": [
    "### Using units for label-based indexing\n",
    "\n",
    "We also use units to distinguish between positional indexing and label-based indexing:"
   ]
  },
  {
   "cell_type": "code",
   "execution_count": null,
   "id": "f3c8befd-396f-44c2-b905-c81d8dbf83f7",
   "metadata": {},
   "outputs": [],
   "source": [
    "image['x', -0.5 * sc.Unit('cm')].plot()"
   ]
  },
  {
   "cell_type": "markdown",
   "id": "f1880ff1-eb0d-4b85-bcdd-845c0e6563da",
   "metadata": {},
   "source": [
    "<br><br><br><br><br><br><br><br>\n",
    "<br><br><br><br><br><br><br><br>\n",
    "<br><br><br><br><br><br><br><br>"
   ]
  },
  {
   "cell_type": "markdown",
   "id": "b642ca5b-d4d8-4ab0-9223-ea175a7c52fd",
   "metadata": {},
   "source": [
    "### 2.2 Bin-edge coordinates\n",
    "\n",
    "- It is sometimes necessary to have coordinates that represent a range for each data value.\n",
    "- E.g. \"the temperature was 310 K in the time span between 10 and 20 seconds\".\n",
    "- This also arises every time we histogram data, as in the image above.\n",
    "- Scipp supports this by having **bin-edge coordinates**: a coordinate which has a length of 1 more than the dimension length."
   ]
  },
  {
   "cell_type": "code",
   "execution_count": null,
   "id": "2d58b3be-c83e-478a-97fa-8fc5f4d9965b",
   "metadata": {},
   "outputs": [],
   "source": [
    "image = recording.hist(y=8, x=8)\n",
    "sc.show(image)"
   ]
  },
  {
   "cell_type": "code",
   "execution_count": null,
   "id": "dd251dfb-6f61-428c-b86e-2809cadf44f2",
   "metadata": {},
   "outputs": [],
   "source": [
    "image"
   ]
  },
  {
   "cell_type": "code",
   "execution_count": null,
   "id": "6cd3cffd-16dd-482e-adcb-e0f7c381ae68",
   "metadata": {},
   "outputs": [],
   "source": [
    "image.plot(aspect='equal')"
   ]
  },
  {
   "cell_type": "markdown",
   "id": "9bce7e32-77a6-4a4a-9c70-ac6f624f08f7",
   "metadata": {},
   "source": [
    "- Numpy and Matplotlib return the bin edges and the data counts separately\n",
    "- We have everything stored inside a single data structure"
   ]
  },
  {
   "cell_type": "markdown",
   "id": "da71dd0e-22ed-4d0b-84d1-2e1e852a304f",
   "metadata": {},
   "source": [
    "<br><br><br><br><br><br><br><br><br><br>\n",
    "<br><br><br><br><br><br><br><br><br><br>"
   ]
  },
  {
   "cell_type": "markdown",
   "id": "50b9719e-b407-4ca5-b4cb-0accb66b81dd",
   "metadata": {},
   "source": [
    "## 3. Binned data\n",
    "\n",
    "Scipp distinguishes **histogrammed** data from **binned** data:\n",
    "\n",
    "- Histogrammed data refers to regular dense arrays of, e.g., floating-point values with an associated bin-edge coordinate.\n",
    "- Binned data refers to the precursor of histogrammed data, i.e., each bin contains a “list” of contributing events or values. Binned data can be converted into a histogram by computing the sum over all events or values in a bin.\n",
    "\n",
    "<img src=\"binned_drawing.svg\" />\n",
    "\n",
    "<br><br><br><br>\n",
    "\n",
    "This is conceptually similar to a multi-dimensional <a href=\"https://awkward-array.org/doc/main/\"><img src=\"https://iris-hep.org/assets/logos/awkward.svg\" width=\"200\" /></a>.\n",
    "\n",
    "It is best illustrated with an example of data analysis.\n",
    "For this, we will use one of the NYC taxi datasets.\n",
    "\n",
    "<br><br><br><br><br><br><br><br><br><br>\n",
    "<br><br><br><br><br><br><br><br><br><br>\n",
    "<br><br><br><br><br><br><br><br><br><br>\n",
    "\n",
    "### NYC yellow taxi dataset\n",
    "\n",
    "<img src=\"https://vaex.readthedocs.io/en/latest/_images/datasets_2_1.png\" /> <img src=\"https://cdn-images-1.medium.com/v2/resize:fit:2680/1*fqrY2h4uLD3eKEvJ6hlI2g.png\" width=\"600\" />\n",
    "\n",
    "(https://vaex.readthedocs.io/en/latest/datasets.html, Dataset from 2015, obtained as a HDF5 file from the Vaex docs,\n",
    "and subsequently cleaned of outliers)."
   ]
  },
  {
   "cell_type": "code",
   "execution_count": null,
   "id": "e8764926-3361-4e13-9a33-259a3fb2579c",
   "metadata": {},
   "outputs": [],
   "source": [
    "%matplotlib widget\n",
    "\n",
    "da = sc.io.load_hdf5('nyc_taxi_data_2015_small.h5')\n",
    "da"
   ]
  },
  {
   "cell_type": "code",
   "execution_count": null,
   "id": "7193d873-cc1e-425f-a749-93a3266e24e6",
   "metadata": {},
   "outputs": [],
   "source": [
    "n = 100\n",
    "x = da.coords[\"dropoff_longitude\"].values[::n]\n",
    "y = da.coords[\"dropoff_latitude\"].values[::n]\n",
    "scatter(x, y)"
   ]
  },
  {
   "cell_type": "markdown",
   "id": "5b5973a2-b1ef-4499-ab15-2b30cd183a92",
   "metadata": {},
   "source": [
    "### Binning the data records\n",
    "\n",
    "- Working with binned data is most efficient when keeping the number of bins relatively low.\n",
    "- Binning is essentially like overlaying a grid of bin edges onto our data"
   ]
  },
  {
   "cell_type": "code",
   "execution_count": null,
   "id": "16b2ba41-115e-4b63-91b3-2a324bfd0e18",
   "metadata": {},
   "outputs": [],
   "source": [
    "ax = scatter(x, y)\n",
    "for lon in np.linspace(*ax.get_xlim(), 9):\n",
    "    ax.axvline(lon, color=\"gray\")\n",
    "for lat in np.linspace(*ax.get_ylim(), 9):\n",
    "    ax.axhline(lat, color=\"gray\")"
   ]
  },
  {
   "cell_type": "code",
   "execution_count": null,
   "id": "a70c54e4-3050-4b11-8c84-3b7c00d94583",
   "metadata": {},
   "outputs": [],
   "source": [
    "# Bin into 8 longitude & latitude bins\n",
    "binned = da.bin(dropoff_latitude=8, dropoff_longitude=8)\n",
    "binned"
   ]
  },
  {
   "cell_type": "code",
   "execution_count": null,
   "id": "38eb4d59-d1d3-482b-85e0-dc6af00b134a",
   "metadata": {},
   "outputs": [],
   "source": [
    "# Histogramming is summing all the counts in each bin\n",
    "binned.hist().plot(aspect=\"equal\", norm=\"log\")"
   ]
  },
  {
   "cell_type": "markdown",
   "id": "5634399f-4001-4f07-84ba-b0bb3c3aceab",
   "metadata": {},
   "source": [
    "<br><br><br><br><br><br><br><br>\n",
    "<br><br><br><br><br><br><br><br>\n",
    "\n",
    "\n",
    "### Selecting/slicing bins\n",
    "\n",
    "- Binning *groups* the data into bins, but keeps the underlying table of records beneath\n",
    "- **No information is lost, it is simply re-ordered**\n",
    "- The bins can then be used for slicing the data, providing extremely efficient data selection and filtering"
   ]
  },
  {
   "cell_type": "code",
   "execution_count": null,
   "id": "5eda030b-bf22-4253-ae51-817a49b5af45",
   "metadata": {},
   "outputs": [],
   "source": [
    "manh = binned[\"dropoff_longitude\", 1][\"dropoff_latitude\", 4]\n",
    "manh"
   ]
  },
  {
   "cell_type": "code",
   "execution_count": null,
   "id": "cbe0f765-5b54-4e38-b8e4-c1e3ff4e297b",
   "metadata": {},
   "outputs": [],
   "source": [
    "# We can now histogram this with a much finer resolution\n",
    "\n",
    "manh.hist(dropoff_latitude=300, dropoff_longitude=300).plot(norm=\"log\", aspect=\"equal\")"
   ]
  },
  {
   "cell_type": "code",
   "execution_count": null,
   "id": "d267521d-e645-4e45-926d-2afe07c2b44d",
   "metadata": {},
   "outputs": [],
   "source": [
    "# We select another bin, which contains the JFK airport\n",
    "\n",
    "jfk = binned[\"dropoff_longitude\", 6][\"dropoff_latitude\", 1]\n",
    "jfk.hist(dropoff_latitude=300, dropoff_longitude=300).plot(norm=\"log\", aspect=\"equal\")"
   ]
  },
  {
   "cell_type": "markdown",
   "id": "770570b6-5a34-4e8f-b359-142093e4b7e0",
   "metadata": {},
   "source": [
    "![jfk](https://upload.wikimedia.org/wikipedia/commons/thumb/5/5a/JFK_airport_terminal_map.png/640px-JFK_airport_terminal_map.png)\n",
    "\n",
    "(https://commons.wikimedia.org/wiki/File:JFK_airport_terminal_map.png)"
   ]
  },
  {
   "cell_type": "markdown",
   "id": "4048aef4-27ac-4296-a8a8-c59b1de897cc",
   "metadata": {},
   "source": [
    "<br><br><br><br><br><br><br><br>\n",
    "<br><br><br><br><br><br><br><br>\n",
    "\n",
    "### Binning into a new dimension\n",
    "\n",
    "- Data that has already been binned can also be binned further into new dimensions"
   ]
  },
  {
   "cell_type": "code",
   "execution_count": null,
   "id": "51cd60a5-dd43-4fda-9a9b-e8b5add46bdf",
   "metadata": {},
   "outputs": [],
   "source": [
    "manh"
   ]
  },
  {
   "cell_type": "markdown",
   "id": "59a1c9cc-c661-4570-9d83-d0560201f449",
   "metadata": {},
   "source": [
    "- we look at the trip distances inside the Manhattan and JFK bins we have selected above."
   ]
  },
  {
   "cell_type": "code",
   "execution_count": null,
   "id": "47734c5a-584c-44a9-8404-0cb8027624ea",
   "metadata": {},
   "outputs": [],
   "source": [
    "# Use 100 distance bins\n",
    "manh_dist = manh.bin(trip_distance=100)\n",
    "manh_dist"
   ]
  },
  {
   "cell_type": "code",
   "execution_count": null,
   "id": "7a865a9c-e2a9-4fa8-8e58-fd68f9c9c835",
   "metadata": {},
   "outputs": [],
   "source": [
    "manh_dist.hist().plot()"
   ]
  },
  {
   "cell_type": "code",
   "execution_count": null,
   "id": "39a77bf1-6338-40fd-a4e7-829110cbed1d",
   "metadata": {},
   "outputs": [],
   "source": [
    "jfk_dist = jfk.bin(trip_distance=100)\n",
    "jfk_dist.hist().plot()"
   ]
  },
  {
   "cell_type": "markdown",
   "id": "b48ca7fb-3982-4a49-8465-3123eee72c38",
   "metadata": {},
   "source": [
    "<br><br><br><br><br><br><br><br>\n",
    "<br><br><br><br><br><br><br><br>\n",
    "\n",
    "\n",
    "### Other operations on bins: what is the fare amount as a function of distance?\n",
    "\n",
    "- In addition to summing/histogramming, bins can be used for other reduction operations: `min()`, `max()`, and `mean()`."
   ]
  },
  {
   "cell_type": "code",
   "execution_count": null,
   "id": "afa8b050-ba24-4d3c-aa93-843265e6473e",
   "metadata": {},
   "outputs": [],
   "source": [
    "manh_dist"
   ]
  },
  {
   "cell_type": "markdown",
   "id": "2d8d5554-28a8-4f0a-a054-4e3eb21c4f61",
   "metadata": {},
   "source": [
    "- To get the minimum and maximum fares for all trips that ended inside our Manhattan area, we can do"
   ]
  },
  {
   "cell_type": "code",
   "execution_count": null,
   "id": "58efcd20-039e-457b-9bb4-3e201aad17e6",
   "metadata": {},
   "outputs": [],
   "source": [
    "manh_dist.bins.coords['fare_amount'].min(), manh.bins.coords['fare_amount'].max()"
   ]
  },
  {
   "cell_type": "markdown",
   "id": "a997f099-8b80-425c-afd1-8816215d2fa4",
   "metadata": {},
   "source": [
    "- These values are somewhat strange, indicative of bad data in the table.\n",
    "- We restrict our fare range from \\\\$0 to \\\\$200."
   ]
  },
  {
   "cell_type": "code",
   "execution_count": null,
   "id": "d212a5fb-03b6-4477-ab8c-601e10cec8e4",
   "metadata": {},
   "outputs": [],
   "source": [
    "# Make 100 bins between 0 and 200 dollars\n",
    "nbins = 100\n",
    "fare_bins = sc.linspace('fare_amount', 0, 200, nbins + 1, unit='dollar')\n",
    "\n",
    "# Bin & plot our data\n",
    "manh_dist.bin(fare_amount=fare_bins).hist().transpose().plot(norm=\"log\")"
   ]
  },
  {
   "cell_type": "markdown",
   "id": "9b7b3413-3c1b-46a2-8756-12e9b21d3018",
   "metadata": {},
   "source": [
    "Some things we can say about the data:\n",
    "\n",
    "- there appears to be a (somewhat expected) correlation between fare amount and trip distance: the further you go, the more you'll have to pay\n",
    "- for a given trip distance, clients usually pay above the diagonal line, rarely below\n",
    "- there appears to be a magic fare amount of \\\\$52 that will take you anywhere from 0 to 60 miles!\n",
    "\n",
    "<br><br><br><br><br><br>\n",
    "<br><br><br><br><br><br>\n",
    "<br><br><br><br><br><br><br><br>\n",
    "<br><br><br><br><br><br><br><br>\n",
    "\n",
    "\n",
    "## 4. Plopp: interactive data visualization tools\n",
    "\n",
    "<img src=\"https://scipp.github.io/plopp/_static/logo.svg\" width=\"200\" />\n",
    "\n",
    "https://scipp.github.io/plopp "
   ]
  },
  {
   "cell_type": "code",
   "execution_count": null,
   "id": "0a454655-bc5a-43fd-ae53-cdf0dc96b902",
   "metadata": {},
   "outputs": [],
   "source": [
    "import plopp as pp\n",
    "\n",
    "fare_lat_lon = da.hist(fare_amount=fare_bins, dropoff_latitude=300, dropoff_longitude=300)\n",
    "fare_lat_lon"
   ]
  },
  {
   "cell_type": "code",
   "execution_count": null,
   "id": "bfd3d529-8f73-4147-86af-7a623063f496",
   "metadata": {},
   "outputs": [],
   "source": [
    "pp.inspector(fare_lat_lon, dim='fare_amount', norm='log')"
   ]
  },
  {
   "cell_type": "markdown",
   "id": "1d7ed55f-62aa-49ca-9b80-7578b6e72a8b",
   "metadata": {},
   "source": [
    "<br><br><br><br><br><br><br><br><br><br><br><br><br><br><br><br><br><br>"
   ]
  },
  {
   "cell_type": "markdown",
   "id": "0ec0821a-ef51-4005-8a75-c41f47ece8ad",
   "metadata": {},
   "source": [
    "<br><br><br><br><br><br><br><br><br><br><br><br><br><br><br><br><br>\n",
    "\n",
    "<a href=\"https://scipp.github.io\"><img src=\"https://scipp.github.io/_static/logo-2022.svg\" width=\"600\" /></a>\n",
    "\n",
    "# Thank you for listening! &nbsp;&nbsp;&nbsp;&nbsp;&nbsp;&nbsp;&nbsp;&nbsp; <img src=\"https://img.icons8.com/?size=512&id=24511&format=png\" width=\"50\" /> [scipp.github.io](https://scipp.github.io) &nbsp;&nbsp;&nbsp;&nbsp; <img src=\"https://cdn-icons-png.flaticon.com/512/25/25231.png\" width=\"50\" /> [github.com/scipp](https://github.com/scipp)\n",
    "\n",
    "<br>\n",
    "\n",
    "<h1 style=\"color:#C70039;\">We are hiring! Permanent position as a software engineer for science tools</h1> \n",
    "\n",
    "<br>\n",
    "\n",
    "## Neil Vaytet &nbsp;&nbsp;&nbsp;&nbsp; <a href=\"mailto:neil.vaytet@ess.eu\">neil.vaytet@ess.eu</a> &nbsp;&nbsp;&nbsp;&nbsp;&nbsp;&nbsp;&nbsp;&nbsp; <img src=\"neil.png\" width=\"100\" /> &nbsp; <img src=\"https://europeanspallationsource.se/themes/custom/ess/logo.svg\" width=\"200\" />\n",
    "\n",
    "<br>\n",
    "\n",
    "<h3>\n",
    "    <img src=\"simon.png\" width=\"60\" /> Simon Heybrock &nbsp;&nbsp;&nbsp;&nbsp;&nbsp;&nbsp;&nbsp;&nbsp;&nbsp;&nbsp;&nbsp;&nbsp;\n",
    "    <img src=\"janlukas.png\" width=\"60\" />Jan-Lukas Wynen &nbsp;&nbsp;&nbsp;&nbsp;&nbsp;&nbsp;&nbsp;&nbsp;&nbsp;&nbsp;&nbsp;&nbsp;\n",
    "    <img src=\"sunyoung.png\" width=\"60\" />Sunyoung Yoo\n",
    "</h3>\n",
    "\n",
    "\n",
    "<!-- <br>\n",
    "\n",
    "# Links:\n",
    "\n",
    "## &bull; Docs: [scipp.github.io](https://scipp.github.io)\n",
    "\n",
    "## &bull; Github: [github.com/scipp/scipp](https://github.com/scipp/scipp)\n",
    "\n",
    "## &bull; Plopp: [github.com/scipp/plopp](https://github.com/scipp/plopp) -->\n",
    "\n",
    "<br>\n",
    "\n"
   ]
  },
  {
   "cell_type": "markdown",
   "id": "494af39b-1f2a-4dac-aba7-b5ac44bd42c8",
   "metadata": {},
   "source": [
    "### Differences with Xarray\n",
    "\n",
    "- automatic alignment of coords\n",
    "-\n",
    "\n",
    "### Awkward array\n",
    "\n",
    "- more generic and flexible\n",
    "- nested levels of binning\n",
    "- they expose the inner dimensions in the top level, whereas scipp hides this and make it look like a normal array\n",
    "- attempts of putting awkward array in Xarray, e.g. having shape of None\n",
    "- we say the inner dims don't exist on the top level\n",
    "\n",
    "### Other\n",
    "\n",
    "- Say it is Multi-threaded by default?\n",
    "- "
   ]
  },
  {
   "cell_type": "markdown",
   "id": "b4e2b397-7874-4467-8f75-948e6b826dfe",
   "metadata": {},
   "source": [
    "<br><br><br><br><br><br><br><br><br><br><br><br><br><br><br><br><br>\n",
    "<br><br><br><br><br><br><br><br><br><br><br><br><br><br><br><br><br>\n",
    "\n",
    "## 4. Plopp: building interactive visualizations\n",
    "\n",
    "<img src=\"https://scipp.github.io/plopp/_static/logo.svg\" width=\"600\" />\n",
    "\n",
    "https://scipp.github.io/plopp"
   ]
  },
  {
   "cell_type": "code",
   "execution_count": null,
   "id": "26304541-dbbe-4bd0-b560-26ea6e8373c4",
   "metadata": {},
   "outputs": [],
   "source": [
    "import plopp as pp\n",
    "from plopp import widgets\n",
    "import ipywidgets as ipw\n",
    "from scipp.scipy.ndimage import gaussian_filter"
   ]
  },
  {
   "cell_type": "code",
   "execution_count": null,
   "id": "a140a7d9-b73d-491b-8236-f54367a00152",
   "metadata": {},
   "outputs": [],
   "source": [
    "data = da.group(\"hour\").hist(latitude=500, longitude=500)\n",
    "data"
   ]
  },
  {
   "cell_type": "markdown",
   "id": "480c025e-1370-4dd6-9ba5-849ac3774ec1",
   "metadata": {},
   "source": [
    "### Goal: make an interactive visualization with 3 panels and a slider\n",
    "\n",
    "![plopp_visu](plopp.png)"
   ]
  },
  {
   "cell_type": "code",
   "execution_count": null,
   "id": "ff4ad334-2f96-4b87-9d25-a7b68f0ccc59",
   "metadata": {},
   "outputs": [],
   "source": [
    "slider = ipw.IntSlider(description=\"Hour:\", min=0, max=23)\n",
    "slider_node = pp.widget_node(slider)\n",
    "\n",
    "slice_node = pp.Node(lambda da, ind: da[\"hour\", ind], da=data, ind=slider_node)\n",
    "\n",
    "fig2d = pp.figure2d(slice_node, norm=\"log\", cbar=False)\n",
    "\n",
    "sum_lat = pp.Node(sc.sum, slice_node, dim=\"latitude\")\n",
    "sum_lon = pp.Node(sc.sum, slice_node, dim=\"longitude\")\n",
    "\n",
    "smooth = pp.Node(gaussian_filter, sum_lat, sigma=5)\n",
    "\n",
    "fig_lon = pp.figure1d(sum_lon, norm=\"log\")\n",
    "fig_lat = pp.figure1d(sum_lat, smooth, norm=\"log\")\n",
    "\n",
    "widgets.Box([slider, [fig2d, fig_lon], fig_lat])"
   ]
  },
  {
   "cell_type": "code",
   "execution_count": null,
   "id": "40e2f298-0362-4045-985f-f596d52919a4",
   "metadata": {},
   "outputs": [],
   "source": [
    "pp.show_graph(fig_lat)"
   ]
  },
  {
   "cell_type": "markdown",
   "id": "6dec6126-5486-4c92-a93c-aa5b8e6df2a0",
   "metadata": {},
   "source": [
    "### Adding a second widget for the Gaussian smoothing kernel size"
   ]
  },
  {
   "cell_type": "code",
   "execution_count": null,
   "id": "90f1b6c0-21de-42f8-9034-0bebbb9615f8",
   "metadata": {},
   "outputs": [],
   "source": [
    "slider = ipw.IntSlider(description=\"Hour:\", min=0, max=23)\n",
    "slider_node = pp.widget_node(slider)\n",
    "\n",
    "slice_node = pp.Node(lambda da, ind: da[\"hour\", ind], da=data, ind=slider_node)\n",
    "\n",
    "fig2d = pp.figure2d(slice_node, norm=\"log\", cbar=False)\n",
    "\n",
    "sum_lat = pp.Node(sc.sum, slice_node, dim=\"latitude\")\n",
    "sum_lon = pp.Node(sc.sum, slice_node, dim=\"longitude\")\n",
    "\n",
    "\n",
    "# Add a new slider that will act as input to the Gaussian smoothing node\n",
    "smooth_slider = ipw.IntSlider(description=\"kernel:\", min=1, max=25)\n",
    "smooth_slider_node = pp.widget_node(smooth_slider)\n",
    "\n",
    "# Use slider as input node for smoothing kernel size\n",
    "smooth = pp.Node(gaussian_filter, sum_lat, sigma=smooth_slider_node)\n",
    "\n",
    "\n",
    "fig_lon = pp.figure1d(sum_lon, norm=\"log\")\n",
    "fig_lat = pp.figure1d(sum_lat, smooth, norm=\"log\")\n",
    "\n",
    "widgets.Box([[slider, smooth_slider], [fig2d, fig_lon], fig_lat])  # Container box"
   ]
  },
  {
   "cell_type": "code",
   "execution_count": null,
   "id": "fb681f9e-64e2-4a8e-97d2-7af7a027f4b9",
   "metadata": {},
   "outputs": [],
   "source": [
    "pp.show_graph(fig_lat)"
   ]
  },
  {
   "cell_type": "code",
   "execution_count": null,
   "id": "e7ae67fc-5674-4f8e-802e-ce8806d86871",
   "metadata": {},
   "outputs": [],
   "source": []
  }
 ],
 "metadata": {
  "kernelspec": {
   "display_name": "Python 3 (ipykernel)",
   "language": "python",
   "name": "python3"
  },
  "language_info": {
   "codemirror_mode": {
    "name": "ipython",
    "version": 3
   },
   "file_extension": ".py",
   "mimetype": "text/x-python",
   "name": "python",
   "nbconvert_exporter": "python",
   "pygments_lexer": "ipython3",
   "version": "3.10.12"
  }
 },
 "nbformat": 4,
 "nbformat_minor": 5
}
