{
 "cells": [
  {
   "cell_type": "markdown",
   "id": "cfc2eac2-42f1-47cb-9f09-1b6c597f0239",
   "metadata": {},
   "source": [
    "<a href=\"https://scipp.github.io\"><img src=\"https://scipp.github.io/_static/logo-2022.svg\" width=\"600\" /></a>\n",
    "\n",
    "# Multi-dimensional arrays with labeled dimensions and physical units\n",
    "\n",
    "## [scipp.github.io](https://scipp.github.io)\n",
    "\n",
    "<br>\n",
    "<br><br>\n",
    "\n",
    "<table style=\"margin-left:0px;\">\n",
    "    <tr>\n",
    "        <td>\n",
    "            <h1>About me</h1><br>\n",
    "            <h2>Neil Vaytet</h2>\n",
    "            <h3>\n",
    "            <ul>\n",
    "                <li>Scientific software developer @ <a href=\"https://europeanspallationsource.se/\">European Spallation Source (DK/SE)</a></li>\n",
    "                <li>Python for scientific data analysis</li>\n",
    "                <li>Data visualization</li>\n",
    "            </ul>\n",
    "            </h3>\n",
    "        </td>\n",
    "        <td>\n",
    "            <img src=\"neil.png\" width=\"200\" /> &nbsp;\n",
    "            <img src=\"https://europeanspallationsource.se/themes/custom/ess/logo.svg\" width=\"300\" />\n",
    "        </td>\n",
    "    </tr>\n",
    "</table>\n",
    "\n",
    "\n",
    "<h3>\n",
    "    <img src=\"simon.png\" width=\"60\" /> Simon Heybrock &nbsp;&nbsp;&nbsp;&nbsp;&nbsp;&nbsp;&nbsp;&nbsp;&nbsp;&nbsp;&nbsp;&nbsp;\n",
    "    <img src=\"janlukas.png\" width=\"60\" />Jan-Lukas Wynen &nbsp;&nbsp;&nbsp;&nbsp;&nbsp;&nbsp;&nbsp;&nbsp;&nbsp;&nbsp;&nbsp;&nbsp;\n",
    "    <img src=\"sunyoung.png\" width=\"60\" />Sunyoung Yoo\n",
    "</h3>"
   ]
  },
  {
   "cell_type": "markdown",
   "id": "179c0b83-2c38-4549-a850-e72c26a4c770",
   "metadata": {},
   "source": [
    "<br><br><br><br>\n",
    "<br><br><br><br>\n",
    "<br><br><br><br>"
   ]
  },
  {
   "cell_type": "markdown",
   "id": "05e2be37-6d3e-4630-b995-83d858063bdb",
   "metadata": {},
   "source": [
    "## Outline\n",
    "\n",
    "### 1. Introduction to labeled dimensions\n",
    "### 2. Going further: physical units, bin-edge coordinates\n",
    "### 3. Binned data: multi-dimensional handling of event/record data\n",
    "### 4. Plopp: building interactive visualizations\n",
    "\n",
    "\n",
    "<br><br><br><br>\n",
    "<br><br><br><br>\n",
    "<br><br><br><br>\n",
    "<br><br><br><br>"
   ]
  },
  {
   "cell_type": "markdown",
   "id": "ba16f9e5-5cb0-47ae-9b9a-252e5f09a33a",
   "metadata": {},
   "source": [
    "## 1. Introduction to labeled dimensions\n",
    "\n",
    "Why do we need labeled dimensions?"
   ]
  },
  {
   "cell_type": "code",
   "execution_count": null,
   "id": "4fd44f82-593f-43f2-a8ca-d9ef5b864623",
   "metadata": {},
   "outputs": [],
   "source": [
    "%matplotlib inline\n",
    "import numpy as np\n",
    "import scipp as sc\n",
    "import matplotlib.pyplot as plt\n",
    "\n",
    "rng = np.random.default_rng(seed=1234)"
   ]
  },
  {
   "cell_type": "code",
   "execution_count": null,
   "id": "1d9b1c65-c2a2-43be-addf-aecdc48c659b",
   "metadata": {},
   "outputs": [],
   "source": [
    "def plot(*x):\n",
    "    \"\"\"\n",
    "    Useful plot function for 1d and 2d data\n",
    "    \"\"\"\n",
    "    fig, ax = plt.subplots()\n",
    "    for a in x:\n",
    "        if a.ndim == 1:\n",
    "            ax.plot(np.arange(len(a)), a)\n",
    "        elif a.ndim == 2:\n",
    "            ax.imshow(a, origin=\"lower\")\n",
    "\n",
    "def scatter(x, y):\n",
    "    \"\"\"\n",
    "    Simple scatter plot\n",
    "    \"\"\"\n",
    "    fig, ax = plt.subplots()\n",
    "    ax.scatter(x, y, marker=\".\", s=1)\n",
    "    ax.set_aspect(\"equal\")\n",
    "    ax.set_xlim(x.min(), x.max())\n",
    "    ax.set_ylim(y.min(), y.max())\n",
    "    return ax"
   ]
  },
  {
   "cell_type": "code",
   "execution_count": null,
   "id": "e7eb1b73-b841-4696-bc5e-73fb5f063e71",
   "metadata": {},
   "outputs": [],
   "source": [
    "ny, nx = 10, 20\n",
    "a = np.sin(np.arange(ny) / (ny / 4)).reshape((-1, 1)) * np.cos(np.arange(nx) / (ny / 4))\n",
    "a.shape"
   ]
  },
  {
   "cell_type": "code",
   "execution_count": null,
   "id": "4bcf0f99-f1a3-4e0c-81dc-b53681d1760f",
   "metadata": {},
   "outputs": [],
   "source": [
    "plot(a)"
   ]
  },
  {
   "cell_type": "code",
   "execution_count": null,
   "id": "75b6612c-4241-46ac-be57-af9a99cab75b",
   "metadata": {},
   "outputs": [],
   "source": [
    "# Slice out row number 4\n",
    "plot(a[4, :])"
   ]
  },
  {
   "cell_type": "markdown",
   "id": "f135c682-5074-420c-a497-1b1458afe843",
   "metadata": {},
   "source": [
    "### We can't always deduce from the shape\n",
    "\n",
    "When both dimensions have the same length,\n",
    "it can sometimes be difficult to remember which dimension is which:"
   ]
  },
  {
   "cell_type": "code",
   "execution_count": null,
   "id": "61611d8c-b202-4727-9135-ab6101e81593",
   "metadata": {},
   "outputs": [],
   "source": [
    "ny, nx = 20, 20\n",
    "a = np.sin(np.arange(ny) / (ny / 4)).reshape((-1, 1)) * np.cos(np.arange(nx) / (ny / 4))\n",
    "a.shape"
   ]
  },
  {
   "cell_type": "code",
   "execution_count": null,
   "id": "e9c50988-0fec-4788-8021-d8b3eb6041f2",
   "metadata": {},
   "outputs": [],
   "source": [
    "plot(a)"
   ]
  },
  {
   "cell_type": "code",
   "execution_count": null,
   "id": "c285a8d4-95ae-4bc4-ae7b-5935db371451",
   "metadata": {},
   "outputs": [],
   "source": [
    "plot(a[:, 7], a[7, :])"
   ]
  },
  {
   "cell_type": "markdown",
   "id": "e375cb07-b2eb-46f9-ab5e-68dd12fe31ca",
   "metadata": {},
   "source": [
    "### The situation gets worse with more dimensions\n",
    "\n",
    "Say I now have an array that has 4 dimensions: `x, y, z, time` (in that order if I'm lucky?)."
   ]
  },
  {
   "cell_type": "code",
   "execution_count": null,
   "id": "a58514bd-6c6c-4c93-8d8b-429fd47034f6",
   "metadata": {},
   "outputs": [],
   "source": [
    "a = np.random.random([20] * 4)\n",
    "a.shape"
   ]
  },
  {
   "cell_type": "markdown",
   "id": "a800667f-7e2c-4ca5-b949-acb5c245536b",
   "metadata": {},
   "source": [
    "I want to get the first `z` slice...\n",
    "\n",
    "Which one was it again?"
   ]
  },
  {
   "cell_type": "code",
   "execution_count": null,
   "id": "2ffa21ab-5254-4984-b45e-21f8e0c22694",
   "metadata": {},
   "outputs": [],
   "source": [
    "z_slice = a[:, :, 0, :]  # x,y,z,t\n",
    "z_slice = a[0, :, :, :]  # z,y,x,t\n",
    "z_slice = a[:, :, :, 0]  # t,x,y,z"
   ]
  },
  {
   "cell_type": "markdown",
   "id": "13f35a1c-c377-49b0-a8ea-a682d03ec466",
   "metadata": {},
   "source": [
    "<br><br><br><br><br><br><br><br><br>\n",
    "\n",
    "\n",
    "### Introducing labeled dimensions\n",
    "\n",
    "<img src=\"https://docs.xarray.dev/en/stable/_static/dataset-diagram-logo.png\" width=\"220\" /> &nbsp;&nbsp;&nbsp;&nbsp;&nbsp;&nbsp;&nbsp;&nbsp; <img src=\"https://scipp.github.io/_static/logo-2022.svg\" width=\"220\" />\n",
    "\n",
    "[Xarray](https://docs.xarray.dev/en/stable/index.html) (https://docs.xarray.dev) introduced labels to multi-dimensional Numpy arrays.\n",
    "\n",
    "\"*real-world datasets are usually more than just raw numbers; they have labels which encode information about how the array values map to locations in space, time, etc.*\"\n",
    "\n",
    "We have embraced, and to a large extent copied, the Xarray mechanism."
   ]
  },
  {
   "cell_type": "code",
   "execution_count": null,
   "id": "f0ba61d1-53f8-450d-85cf-170e0b730cb0",
   "metadata": {},
   "outputs": [],
   "source": [
    "var = sc.array(dims=[\"x\", \"y\", \"z\", \"time\"], values=a)\n",
    "var"
   ]
  },
  {
   "cell_type": "markdown",
   "id": "396918b2-461e-4e4e-9659-2d94098155d6",
   "metadata": {},
   "source": [
    "Getting the `z` slice is now easy and **readable**"
   ]
  },
  {
   "cell_type": "code",
   "execution_count": null,
   "id": "139a6447-8e0c-444b-8442-453b99872a39",
   "metadata": {},
   "outputs": [],
   "source": [
    "var[\"z\", 0]"
   ]
  },
  {
   "cell_type": "markdown",
   "id": "f1136ca6-f6b5-4e08-bd89-f79b8ee22032",
   "metadata": {},
   "source": [
    "### Adding coordinates\n",
    "\n",
    "Coordinates can be specified for each dimension.\n",
    "Essentially, they describe the extent of each axis, as well as how far each data point is from its neighbours."
   ]
  },
  {
   "cell_type": "code",
   "execution_count": null,
   "id": "db1955bc-03d7-4915-8f78-41fa29879c52",
   "metadata": {},
   "outputs": [],
   "source": [
    "data = sc.array(dims=[\"latitude\", \"longitude\"], values=rng.random((5, 9)))\n",
    "sc.show(data)"
   ]
  },
  {
   "cell_type": "markdown",
   "id": "772caaea-96c6-48f3-8dc7-e17ebef1e0fa",
   "metadata": {},
   "source": [
    "In Scipp and Xarray, coordinates are added in a data structure called `DataArray`:"
   ]
  },
  {
   "cell_type": "code",
   "execution_count": null,
   "id": "9fae8696-a15a-49f6-bfdf-5133e27b2304",
   "metadata": {},
   "outputs": [],
   "source": [
    "da = sc.DataArray(\n",
    "    data=data,\n",
    "    coords={\n",
    "        \"longitude\": sc.linspace(\"longitude\", -120, 120, 9),\n",
    "        \"latitude\": sc.linspace(\"latitude\", -70, 70, 5),\n",
    "    },\n",
    ")\n",
    "da"
   ]
  },
  {
   "cell_type": "code",
   "execution_count": null,
   "id": "18c6b274-9fad-4f73-9cee-6b2163e3bc59",
   "metadata": {},
   "outputs": [],
   "source": [
    "sc.show(da)"
   ]
  },
  {
   "cell_type": "code",
   "execution_count": null,
   "id": "4cd32a65-f4a9-4539-8322-05d280bf466b",
   "metadata": {},
   "outputs": [],
   "source": [
    "da.plot()"
   ]
  },
  {
   "cell_type": "markdown",
   "id": "da5a7e5d-23ee-4a31-b58a-868e927781c7",
   "metadata": {},
   "source": [
    "### Automatic broadcasting\n",
    "\n",
    "Because of the labeled dimensions,\n",
    "operations between arrays with different dimensions can automatically broadcast operands to the correct shape:"
   ]
  },
  {
   "cell_type": "code",
   "execution_count": null,
   "id": "ea31c176-58bd-4e2a-a69b-ee06a7c5dd82",
   "metadata": {},
   "outputs": [],
   "source": [
    "a = sc.array(dims=[\"y\", \"x\"], values=rng.random((50, 50)))  # 2D array\n",
    "b = sc.array(dims=[\"y\"], values=np.arange(50.))  # 1D array\n",
    "c = a * b\n",
    "c"
   ]
  },
  {
   "cell_type": "code",
   "execution_count": null,
   "id": "e78756c4-1d22-4fac-92c2-fb2af9111670",
   "metadata": {},
   "outputs": [],
   "source": [
    "c.plot(aspect='equal')"
   ]
  },
  {
   "cell_type": "markdown",
   "id": "4223c2fb-d0a0-4796-b4d6-323231a32e64",
   "metadata": {},
   "source": [
    "There is no longer a need for Numpy's `x.reshape(50, 1)`!"
   ]
  },
  {
   "cell_type": "markdown",
   "id": "61c0aec4-fffb-475f-87f0-57a82cbc3e65",
   "metadata": {},
   "source": [
    "<br><br><br><br><br><br><br><br>\n",
    "<br><br><br><br><br><br><br><br>"
   ]
  },
  {
   "cell_type": "markdown",
   "id": "2714f71b-f985-4029-b4f5-c8eabe83eeaa",
   "metadata": {},
   "source": [
    "## 2. Going further\n",
    "\n",
    "<img src=\"https://scipp.github.io/_static/logo-2022.svg\" width=\"220\" />\n",
    "\n",
    "### 2.1 Physical units\n",
    "\n",
    "Every data variable and coordinate in Scipp has physical units."
   ]
  },
  {
   "cell_type": "code",
   "execution_count": null,
   "id": "9da99797-a83d-423a-942f-d132b8fff663",
   "metadata": {},
   "outputs": [],
   "source": [
    "s = rng.normal(size=(2, 10000))\n",
    "h = np.histogram2d(s[0], s[1], bins=(100, 100))[0]\n",
    "\n",
    "image = sc.array(dims=[\"y\", \"x\"], values=h, unit=\"counts\")\n",
    "image"
   ]
  },
  {
   "cell_type": "code",
   "execution_count": null,
   "id": "69b929e6-967a-4c5f-80fe-b7ad896b0dda",
   "metadata": {},
   "outputs": [],
   "source": [
    "image.plot(aspect=\"equal\")"
   ]
  },
  {
   "cell_type": "code",
   "execution_count": null,
   "id": "4ba9cca0-ccc9-4079-bf93-a4645b7f80ec",
   "metadata": {},
   "outputs": [],
   "source": [
    "integration_time = sc.scalar(300.0, unit=\"s\")\n",
    "image /= integration_time\n",
    "print(image.unit)\n",
    "\n",
    "image.plot(aspect=\"equal\")"
   ]
  },
  {
   "cell_type": "markdown",
   "id": "c50b87c9-3f0d-412a-ac3a-30f40bd96e46",
   "metadata": {},
   "source": [
    "### Units also provide protection\n",
    "\n",
    "Say I now have a background image (dark frame) which I want to subtract from the signal image above,\n",
    "but I forgot to first normalize it by integration time"
   ]
  },
  {
   "cell_type": "code",
   "execution_count": null,
   "id": "0d9546fc-ecd3-495d-bd24-16e5820ccc34",
   "metadata": {},
   "outputs": [],
   "source": [
    "background = sc.array(dims=[\"y\", \"x\"], values=rng.random((100, 100)), unit=\"counts\")\n",
    "\n",
    "image - background"
   ]
  },
  {
   "cell_type": "code",
   "execution_count": null,
   "id": "cdd8501d-cce9-471d-87be-b7fd3cea7e24",
   "metadata": {},
   "outputs": [],
   "source": [
    "background_integration_time = sc.scalar(60.0, unit=\"s\")\n",
    "background /= background_integration_time\n",
    "\n",
    "image - background"
   ]
  },
  {
   "cell_type": "markdown",
   "id": "80ba2204-ba55-4ab9-b7fd-0e886ed3eb15",
   "metadata": {},
   "source": [
    "The units are very useful in early prevention of difficult-to-spot bugs in a workflow.\n",
    "\n",
    "They save **hours** of debugging time, free-up mental capacity and let the user focus on the important thing: **doing science**.\n",
    "\n",
    "<br><br>\n",
    "\n",
    "(see also [pint](https://pint.readthedocs.io/en/stable/), [astropy.units](https://docs.astropy.org/en/stable/units/index.html), [pint-xarray](https://pint-xarray.readthedocs.io/en/stable/), ...)"
   ]
  },
  {
   "cell_type": "markdown",
   "id": "f1880ff1-eb0d-4b85-bcdd-845c0e6563da",
   "metadata": {},
   "source": [
    "<br><br><br><br><br><br><br><br>\n",
    "<br><br><br><br><br><br><br><br>"
   ]
  },
  {
   "cell_type": "markdown",
   "id": "b642ca5b-d4d8-4ab0-9223-ea175a7c52fd",
   "metadata": {},
   "source": [
    "### 2.2 Bin-edge coordinates\n",
    "\n",
    "It is sometimes necessary to have coordinates that represent a range for each data value.\n",
    "E.g. \"the atmospheric pressure was 1000 hPa between latitudes of 30 and 35 degrees\".\n",
    "\n",
    "Scipp supports this by having **bin-edge coordinates**: a coordinate which has a length of 1 more than the dimension length."
   ]
  },
  {
   "cell_type": "code",
   "execution_count": null,
   "id": "be08c89a-df2c-4e6d-8b08-2cfc56ebdc82",
   "metadata": {},
   "outputs": [],
   "source": [
    "pressure = sc.DataArray(\n",
    "    data=sc.array(dims=[\"latitude\", \"longitude\"], values=1000. + rng.random((5, 9)), unit=\"hPa\"),\n",
    "    coords={\n",
    "        \"latitude\": sc.linspace(\"latitude\", -90, 90, 6),\n",
    "        \"longitude\": sc.linspace(\"longitude\", -180, 180, 10),\n",
    "    },\n",
    ")\n",
    "sc.show(pressure)"
   ]
  },
  {
   "cell_type": "code",
   "execution_count": null,
   "id": "5c6907fb-c8fe-4687-bb81-3f7a5298a327",
   "metadata": {},
   "outputs": [],
   "source": [
    "pressure"
   ]
  },
  {
   "cell_type": "markdown",
   "id": "2729f522-994e-49b9-85bb-1d133150f169",
   "metadata": {},
   "source": [
    "This also arises every time we histogram data:"
   ]
  },
  {
   "cell_type": "code",
   "execution_count": null,
   "id": "1b4a62f7-d167-493c-843a-5775c4a21d8e",
   "metadata": {},
   "outputs": [],
   "source": [
    "v = sc.array(dims=[\"event\"], values=rng.normal(loc=300.0, size=10000), unit=\"K\")\n",
    "\n",
    "# Histogram and plot the data\n",
    "v.hist(temperature=50).plot()"
   ]
  },
  {
   "cell_type": "markdown",
   "id": "da71dd0e-22ed-4d0b-84d1-2e1e852a304f",
   "metadata": {},
   "source": [
    "<br><br><br><br><br><br><br><br><br><br>\n",
    "<br><br><br><br><br><br><br><br><br><br>"
   ]
  },
  {
   "cell_type": "markdown",
   "id": "50b9719e-b407-4ca5-b4cb-0accb66b81dd",
   "metadata": {},
   "source": [
    "## 3. Binned data\n",
    "\n",
    "Scipp distinguishes **histogrammed** data from **binned** data:\n",
    "\n",
    "- Histogrammed data refers to regular dense arrays of, e.g., floating-point values with an associated bin-edge coordinate.\n",
    "- Binned data refers to the precursor of histogrammed data, i.e., each bin contains a “list” of contributing events or values. Binned data can be converted into a histogram by computing the sum over all events or values in a bin.\n",
    "\n",
    "This is conceptually similar to a multi-dimensional [AwkwardArray](https://awkward-array.org/doc/main/).\n",
    "\n",
    "<br><br><br><br><br><br><br><br><br><br>\n",
    "<br><br><br><br><br><br><br><br><br><br>\n",
    "<br><br><br><br><br><br><br><br><br><br>\n",
    "\n",
    "It is best illustrated with an example of data analysis.\n",
    "For this, we will use one of the NYC taxi datasets.\n",
    "\n",
    "<img src=\"https://vaex.readthedocs.io/en/latest/_images/datasets_2_1.png\" /> <img src=\"https://cdn-images-1.medium.com/v2/resize:fit:2680/1*fqrY2h4uLD3eKEvJ6hlI2g.png\" width=\"600\" />\n",
    "\n",
    "(https://vaex.readthedocs.io/en/latest/datasets.html, Dataset from 2015, obtained as a HDF5 file from the Vaex docs,\n",
    "and subsequently cleaned of outliers)."
   ]
  },
  {
   "cell_type": "code",
   "execution_count": null,
   "id": "e8764926-3361-4e13-9a33-259a3fb2579c",
   "metadata": {},
   "outputs": [],
   "source": [
    "%matplotlib widget\n",
    "\n",
    "da = sc.io.load_hdf5('nyc_taxi_data_2015.h5')\n",
    "da"
   ]
  },
  {
   "cell_type": "code",
   "execution_count": null,
   "id": "7193d873-cc1e-425f-a749-93a3266e24e6",
   "metadata": {},
   "outputs": [],
   "source": [
    "n = 1000\n",
    "x = da.coords[\"longitude\"].values[::n]\n",
    "y = da.coords[\"latitude\"].values[::n]\n",
    "scatter(x, y)"
   ]
  },
  {
   "cell_type": "markdown",
   "id": "5b5973a2-b1ef-4499-ab15-2b30cd183a92",
   "metadata": {},
   "source": [
    "### Binning the data records\n",
    "\n",
    "Working with binned data is most efficient when keeping the number of bins relatively low.\n",
    "\n",
    "Binning is essentially like overlaying a grid of bin edges onto our data:"
   ]
  },
  {
   "cell_type": "code",
   "execution_count": null,
   "id": "16b2ba41-115e-4b63-91b3-2a324bfd0e18",
   "metadata": {},
   "outputs": [],
   "source": [
    "ax = scatter(x, y)\n",
    "for lon in np.linspace(*ax.get_xlim(), 9):\n",
    "    ax.axvline(lon, color=\"gray\")\n",
    "for lat in np.linspace(*ax.get_ylim(), 9):\n",
    "    ax.axhline(lat, color=\"gray\")"
   ]
  },
  {
   "cell_type": "code",
   "execution_count": null,
   "id": "a70c54e4-3050-4b11-8c84-3b7c00d94583",
   "metadata": {},
   "outputs": [],
   "source": [
    "# Bin into 8 longitude & latitude bins\n",
    "binned = da.bin(latitude=8, longitude=8)\n",
    "binned"
   ]
  },
  {
   "cell_type": "code",
   "execution_count": null,
   "id": "38eb4d59-d1d3-482b-85e0-dc6af00b134a",
   "metadata": {},
   "outputs": [],
   "source": [
    "binned.hist().plot(aspect=\"equal\", norm=\"log\")"
   ]
  },
  {
   "cell_type": "markdown",
   "id": "5634399f-4001-4f07-84ba-b0bb3c3aceab",
   "metadata": {},
   "source": [
    "### Selecting/slicing bins\n",
    "\n",
    "Binning groups the data into bins, but keeps the underlying table beneath; **no information is lost, it is simply re-ordered**.\n",
    "The bins can then be used for slicing the data, providing extremely efficient data selection and filtering.\n",
    "\n",
    "For example, we select one bin in Manhattan by slicing both `longitude` and `latitude` dimensions:"
   ]
  },
  {
   "cell_type": "code",
   "execution_count": null,
   "id": "5eda030b-bf22-4253-ae51-817a49b5af45",
   "metadata": {},
   "outputs": [],
   "source": [
    "manh = binned[\"longitude\", 1][\"latitude\", 4]\n",
    "manh"
   ]
  },
  {
   "cell_type": "markdown",
   "id": "335b7c28-e23a-441f-afb7-02572c66f33b",
   "metadata": {},
   "source": [
    "Because the underlying data is still available, we can histogram this with a much finer resolution:"
   ]
  },
  {
   "cell_type": "code",
   "execution_count": null,
   "id": "cbe0f765-5b54-4e38-b8e4-c1e3ff4e297b",
   "metadata": {},
   "outputs": [],
   "source": [
    "manh.hist(latitude=300, longitude=300).plot(norm=\"log\", aspect=\"equal\")"
   ]
  },
  {
   "cell_type": "markdown",
   "id": "b68fbfe6-b125-450f-a227-79d8b0a04a99",
   "metadata": {},
   "source": [
    "We select another bin, which contains the JFK airport:"
   ]
  },
  {
   "cell_type": "code",
   "execution_count": null,
   "id": "d267521d-e645-4e45-926d-2afe07c2b44d",
   "metadata": {},
   "outputs": [],
   "source": [
    "jfk = binned[\"longitude\", 6][\"latitude\", 1]\n",
    "jfk.hist(latitude=300, longitude=300).plot(norm=\"log\", aspect=\"equal\")"
   ]
  },
  {
   "cell_type": "markdown",
   "id": "770570b6-5a34-4e8f-b359-142093e4b7e0",
   "metadata": {},
   "source": [
    "![jfk](https://upload.wikimedia.org/wikipedia/commons/thumb/5/5a/JFK_airport_terminal_map.png/640px-JFK_airport_terminal_map.png)\n",
    "\n",
    "(https://commons.wikimedia.org/wiki/File:JFK_airport_terminal_map.png)"
   ]
  },
  {
   "cell_type": "markdown",
   "id": "4048aef4-27ac-4296-a8a8-c59b1de897cc",
   "metadata": {},
   "source": [
    "### Binning into a new dimension\n",
    "\n",
    "Data that has already been binned can be binned further into new dimensions, because the underlying records from the original table are still available."
   ]
  },
  {
   "cell_type": "code",
   "execution_count": null,
   "id": "51cd60a5-dd43-4fda-9a9b-e8b5add46bdf",
   "metadata": {},
   "outputs": [],
   "source": [
    "manh"
   ]
  },
  {
   "cell_type": "markdown",
   "id": "59a1c9cc-c661-4570-9d83-d0560201f449",
   "metadata": {},
   "source": [
    "In the following, we look at the trip distances inside the Manhattan and JFK bins we have selected above."
   ]
  },
  {
   "cell_type": "code",
   "execution_count": null,
   "id": "47734c5a-584c-44a9-8404-0cb8027624ea",
   "metadata": {},
   "outputs": [],
   "source": [
    "# Use 100 distance bins\n",
    "manh_dist = manh.bin(trip_distance=100)\n",
    "manh_dist"
   ]
  },
  {
   "cell_type": "code",
   "execution_count": null,
   "id": "7a865a9c-e2a9-4fa8-8e58-fd68f9c9c835",
   "metadata": {},
   "outputs": [],
   "source": [
    "manh_dist.hist().plot()"
   ]
  },
  {
   "cell_type": "code",
   "execution_count": null,
   "id": "39a77bf1-6338-40fd-a4e7-829110cbed1d",
   "metadata": {},
   "outputs": [],
   "source": [
    "jfk_dist = jfk.bin(trip_distance=100)\n",
    "jfk_dist.hist().plot()"
   ]
  },
  {
   "cell_type": "markdown",
   "id": "b48ca7fb-3982-4a49-8465-3123eee72c38",
   "metadata": {},
   "source": [
    "### Other operations on bins: what is the mean fare amount as a function of distance?\n",
    "\n",
    "In addition to summing/histogramming, bins can be used for other reduction operations: `min()`, `max()`, and `mean()`.\n",
    "\n",
    "To illustrate this, we will now inspect a new variable in our Manhattan data which is the fare amount (in dollars).\n",
    "\n",
    "We start from our result from the previous section, where the Manhattan data has been binned into 100 `'trip_distance'` bins."
   ]
  },
  {
   "cell_type": "code",
   "execution_count": null,
   "id": "afa8b050-ba24-4d3c-aa93-843265e6473e",
   "metadata": {},
   "outputs": [],
   "source": [
    "manh_dist"
   ]
  },
  {
   "cell_type": "markdown",
   "id": "2d8d5554-28a8-4f0a-a054-4e3eb21c4f61",
   "metadata": {},
   "source": [
    "We use the `.bins` property to access the underlying coordinate values of the points that lie inside our selected map area.\n",
    "We can then look at the properties of those coordinates.\n",
    "\n",
    "For example, to get the minimum and maximum fares for all trips that ended inside our Manhattan area, we can do"
   ]
  },
  {
   "cell_type": "code",
   "execution_count": null,
   "id": "58efcd20-039e-457b-9bb4-3e201aad17e6",
   "metadata": {},
   "outputs": [],
   "source": [
    "manh_dist.bins.coords['fare_amount'].min(), manh.bins.coords['fare_amount'].max()"
   ]
  },
  {
   "cell_type": "markdown",
   "id": "a997f099-8b80-425c-afd1-8816215d2fa4",
   "metadata": {},
   "source": [
    "These values are somewhat strange, indicative of bad data in the table.\n",
    "\n",
    "To proceed further in our analysis, we shall restrict our fare range from \\\\$0 to \\\\$200.\n",
    "\n",
    "We first want to visually inspect the fare amount as a function of trip distance."
   ]
  },
  {
   "cell_type": "code",
   "execution_count": null,
   "id": "d212a5fb-03b6-4477-ab8c-601e10cec8e4",
   "metadata": {},
   "outputs": [],
   "source": [
    "# Make 100 bins between 0 and 200 dollars\n",
    "nbins = 100\n",
    "fare_bins = sc.linspace('fare_amount', 0, 200, nbins + 1, unit='dollar')\n",
    "\n",
    "# Bin & plot our data\n",
    "manh_dist.bin(fare_amount=fare_bins).hist().transpose().plot(norm=\"log\")"
   ]
  },
  {
   "cell_type": "markdown",
   "id": "9b7b3413-3c1b-46a2-8756-12e9b21d3018",
   "metadata": {},
   "source": [
    "Some things we can say about the data:\n",
    "\n",
    "- there appears to be a (somewhat expected) correlation between fare amount and trip distance: the further you go, the more you'll have to pay\n",
    "- for a given trip distance, clients usually pay above the diagonal line, but very rarely below\n",
    "- there appears to be a magic fare amount (~\\\\$52) that will take you anywhere from 0 to 60 miles (will come back to this later)\n",
    "\n",
    "Our goal is now to try and compute some average fare amount as a function of distance.\n",
    "\n",
    "We again use the `.bins` property to get to the `'fare_amount'` coordinate, showing it is made up of 100 bins in the `'trip_distance'` dimension:"
   ]
  },
  {
   "cell_type": "code",
   "execution_count": null,
   "id": "192d50c4-5fbd-4254-b2a4-bf4e73e91928",
   "metadata": {},
   "outputs": [],
   "source": [
    "manh_dist.bins.coords['fare_amount']"
   ]
  },
  {
   "cell_type": "markdown",
   "id": "e316a6a7-ed52-4ac4-97af-faa57022cff2",
   "metadata": {},
   "source": [
    "We can compute the mean fare inside each `'trip_distance'` bin using"
   ]
  },
  {
   "cell_type": "code",
   "execution_count": null,
   "id": "8062e8f6-cfa1-499a-b96a-9a543e6d366a",
   "metadata": {},
   "outputs": [],
   "source": [
    "mean_fare = manh_dist.bins.coords['fare_amount'].bins.mean()\n",
    "mean_fare"
   ]
  },
  {
   "cell_type": "markdown",
   "id": "aadab91f-60b4-4fea-aaee-f5d461e5d605",
   "metadata": {},
   "source": [
    "This is *almost* what we were after, except that it contains only values.\n",
    "We need to combine this with the coordinate of the `'trip_distance'` bins:"
   ]
  },
  {
   "cell_type": "code",
   "execution_count": null,
   "id": "3f329ec5-b54c-4ef2-90bb-8e3fd96d7b0b",
   "metadata": {},
   "outputs": [],
   "source": [
    "# Remember to add the coordinate for the `trip_distance` bins back\n",
    "mean_fare = sc.DataArray(data=mean_fare,\n",
    "                         coords={'trip_distance': manh_dist.coords['trip_distance']})\n",
    "mean_fare.plot()"
   ]
  },
  {
   "cell_type": "markdown",
   "id": "9abaf51e-ba96-4fc2-95e7-46b2998ad233",
   "metadata": {},
   "source": [
    "### Filtering out the magic \\\\$52 fare\n",
    "\n",
    "We would like to clean up our `fare_amount` vs `trip_distance` relation by filtering out all trips that have a fare amount of \\\\$52.\n",
    "\n",
    "One way to do this would be to use Numpy masking or smart indexing to filter out all \\\\$52 fares in the original data table.\n",
    "But this can potentially be quite a costly operation (both in CPU and memory, as the list of indices to save could be large).\n",
    "\n",
    "An alternative way is to once again use bins.\n",
    "\n",
    "We make 3 bins in the `'fare_amount'` dimension, where the middle bin is very narrow, centered around \\\\$52."
   ]
  },
  {
   "cell_type": "code",
   "execution_count": null,
   "id": "e1ada153-2070-4419-b381-88a2e42401e8",
   "metadata": {},
   "outputs": [],
   "source": [
    "# Make 3 bins = 4 bin edges\n",
    "fare_bins = sc.array(dims=['fare_amount'], values=[0, 51.75, 52.25, 200], unit='dollar')\n",
    "manh_dist_fare = manh_dist.bin(fare_amount=fare_bins)\n",
    "manh_dist_fare"
   ]
  },
  {
   "cell_type": "markdown",
   "id": "e80475ee-6924-4f63-9205-a17111319740",
   "metadata": {},
   "source": [
    "Once we have this, we leave the middle bin out by indexing with a step of 2,\n",
    "concatenate the first and last `'fare_amount'` bins into a single bin using `concat()`,\n",
    "and finally compute the mean fare as we did above."
   ]
  },
  {
   "cell_type": "code",
   "execution_count": null,
   "id": "ca340f69-526f-4eb7-ae6d-702d671fc8df",
   "metadata": {},
   "outputs": [],
   "source": [
    "#                                   Access fare_amount coord | Select first & last bin | Concatenate        | Compute mean as above\n",
    "mean_fare_filtered = manh_dist_fare.bins.coords['fare_amount']['fare_amount', ::2].bins.concat('fare_amount').bins.mean()\n",
    "mean_fare_filtered"
   ]
  },
  {
   "cell_type": "code",
   "execution_count": null,
   "id": "8d0423d7-9c62-4470-9da5-0ab384b1e178",
   "metadata": {},
   "outputs": [],
   "source": [
    "# Remember to add the coordinate for the `trip_distance` bins back\n",
    "mean_fare_filtered = sc.DataArray(data=mean_fare_filtered,\n",
    "                                  coords={'trip_distance': manh_dist.coords['trip_distance']})\n",
    "\n",
    "# Plot both results\n",
    "import plopp as pp\n",
    "pp.plot({'unfiltered': mean_fare, 'filtered': mean_fare_filtered})"
   ]
  },
  {
   "cell_type": "markdown",
   "id": "c40136ef-d651-408d-81f5-735a8a264dea",
   "metadata": {},
   "source": [
    "We can now see that the \\\\$52 fares were introducing significant skew in our result."
   ]
  },
  {
   "cell_type": "markdown",
   "id": "1d7ed55f-62aa-49ca-9b80-7578b6e72a8b",
   "metadata": {},
   "source": [
    "<br><br><br><br><br><br><br><br><br><br><br><br><br><br><br><br><br><br>"
   ]
  },
  {
   "cell_type": "markdown",
   "id": "b4e2b397-7874-4467-8f75-948e6b826dfe",
   "metadata": {},
   "source": [
    "## 4. Plopp: building interactive visualizations\n",
    "\n",
    "<img src=\"https://scipp.github.io/plopp/_static/logo.svg\" width=\"600\" />\n",
    "\n",
    "https://scipp.github.io/plopp"
   ]
  },
  {
   "cell_type": "code",
   "execution_count": null,
   "id": "26304541-dbbe-4bd0-b560-26ea6e8373c4",
   "metadata": {},
   "outputs": [],
   "source": [
    "import plopp as pp\n",
    "from plopp import widgets\n",
    "import ipywidgets as ipw\n",
    "from scipp.scipy.ndimage import gaussian_filter"
   ]
  },
  {
   "cell_type": "code",
   "execution_count": null,
   "id": "a140a7d9-b73d-491b-8236-f54367a00152",
   "metadata": {},
   "outputs": [],
   "source": [
    "data = da.group(\"hour\").hist(latitude=500, longitude=500)\n",
    "data"
   ]
  },
  {
   "cell_type": "markdown",
   "id": "480c025e-1370-4dd6-9ba5-849ac3774ec1",
   "metadata": {},
   "source": [
    "### Goal: make an interactive visualization with 3 panels and a slider\n",
    "\n",
    "![plopp_visu](plopp.png)"
   ]
  },
  {
   "cell_type": "code",
   "execution_count": null,
   "id": "44f923cb-9fd0-441c-b7c6-7541b6dd4d8c",
   "metadata": {},
   "outputs": [],
   "source": [
    "# Slider node that provides index to slice\n",
    "slider = ipw.IntSlider(description=\"Hour:\", min=0, max=23)\n",
    "slider_node = pp.widget_node(slider)\n",
    "\n",
    "# Node that actually does the slicing\n",
    "slice_node = pp.Node(lambda da, ind: da[\"hour\", ind], da=data, ind=slider_node)\n",
    "\n",
    "# Add a 2D figure to show the NYC map\n",
    "fig2d = pp.figure2d(slice_node, norm=\"log\", cbar=False)\n",
    "\n",
    "# Add a node after the slicing to sum along the latitude dimension\n",
    "sum_lat = pp.Node(sc.sum, slice_node, dim=\"latitude\")\n",
    "# Add a node after the slicing to sum along the longitude dimension\n",
    "sum_lon = pp.Node(sc.sum, slice_node, dim=\"longitude\")\n",
    "\n",
    "# Add a node after the sum that performs as Gaussian smoothing\n",
    "smooth = pp.Node(gaussian_filter, sum_lat, sigma=5)\n",
    "\n",
    "# Add a 1D figure that will display sum along longitude\n",
    "fig_lon = pp.figure1d(sum_lon, norm=\"log\")\n",
    "# Add a 1D figure that will display both raw latitude sum and smoothed data\n",
    "fig_lat = pp.figure1d(sum_lat, smooth, norm=\"log\")\n",
    "\n",
    "widgets.Box([slider, [fig2d, fig_lon], fig_lat])  # Container box"
   ]
  },
  {
   "cell_type": "code",
   "execution_count": null,
   "id": "40e2f298-0362-4045-985f-f596d52919a4",
   "metadata": {},
   "outputs": [],
   "source": [
    "pp.show_graph(fig_lat)"
   ]
  },
  {
   "cell_type": "markdown",
   "id": "6dec6126-5486-4c92-a93c-aa5b8e6df2a0",
   "metadata": {},
   "source": [
    "### Adding a second widget for the Gaussian smoothing kernel size"
   ]
  },
  {
   "cell_type": "code",
   "execution_count": null,
   "id": "90f1b6c0-21de-42f8-9034-0bebbb9615f8",
   "metadata": {},
   "outputs": [],
   "source": [
    "# Slider node that provides index to slice\n",
    "slider = ipw.IntSlider(description=\"Hour:\", min=0, max=23)\n",
    "slider_node = pp.widget_node(slider)\n",
    "\n",
    "# Node that actually does the slicing\n",
    "slice_node = pp.Node(lambda da, ind: da[\"hour\", ind], da=data, ind=slider_node)\n",
    "\n",
    "# Add a 2D figure to show the NYC map\n",
    "fig2d = pp.figure2d(slice_node, norm=\"log\", cbar=False)\n",
    "\n",
    "# Add a node after the slicing to sum along the latitude dimension\n",
    "sum_lat = pp.Node(sc.sum, slice_node, dim=\"dropoff_latitude\")\n",
    "# Add a node after the slicing to sum along the longitude dimension\n",
    "sum_lon = pp.Node(sc.sum, slice_node, dim=\"dropoff_longitude\")\n",
    "\n",
    "\n",
    "# Add a new slider that will act as input to the Gaussian smoothing node\n",
    "smooth_slider = ipw.IntSlider(description=\"kernel:\", min=1, max=25)\n",
    "smooth_slider_node = pp.widget_node(smooth_slider)\n",
    "\n",
    "\n",
    "# Add a node after the sum that performs as Gaussian smoothing\n",
    "smooth = pp.Node(gaussian_filter, sum_lat, sigma=smooth_slider_node)\n",
    "\n",
    "# Add a 1D figure that will display sum along longitude\n",
    "fig_lon = pp.figure1d(sum_lon, norm=\"log\")\n",
    "# Add a 1D figure that will display both raw sum and smoothed data\n",
    "fig_lat = pp.figure1d(sum_lat, smooth, norm=\"log\")\n",
    "\n",
    "widgets.Box([[slider, smooth_slider], [fig2d, fig_lon], fig_lat])  # Container box"
   ]
  },
  {
   "cell_type": "code",
   "execution_count": null,
   "id": "fb681f9e-64e2-4a8e-97d2-7af7a027f4b9",
   "metadata": {},
   "outputs": [],
   "source": [
    "pp.show_graph(fig_lat)"
   ]
  }
 ],
 "metadata": {
  "kernelspec": {
   "display_name": "Python 3 (ipykernel)",
   "language": "python",
   "name": "python3"
  },
  "language_info": {
   "codemirror_mode": {
    "name": "ipython",
    "version": 3
   },
   "file_extension": ".py",
   "mimetype": "text/x-python",
   "name": "python",
   "nbconvert_exporter": "python",
   "pygments_lexer": "ipython3",
   "version": "3.10.12"
  }
 },
 "nbformat": 4,
 "nbformat_minor": 5
}
